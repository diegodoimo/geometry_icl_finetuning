{
 "cells": [
  {
   "cell_type": "code",
   "execution_count": null,
   "metadata": {},
   "outputs": [],
   "source": [
    "from src.metrics.intrinsic_dimension import IntrinsicDimension\n",
    "from src.metrics.clustering import LabelClustering\n",
    "import numpy as np\n",
    "import matplotlib.pyplot as plt\n",
    "import seaborn as sns\n",
    "plot_config = {\n",
    "    #'font.size': 12,           \n",
    "    'axes.titlesize': 30,      \n",
    "    'axes.labelsize': 29,\n",
    "    'xtick.labelsize': 20,\n",
    "    'ytick.labelsize': 20,\n",
    "    'legend.fontsize': 23,\n",
    "    'figure.figsize': (10,8),\n",
    "    'lines.linewidth': 2.5,\n",
    "    'lines.markersize': 10,\n",
    "}\n"
   ]
  },
  {
   "cell_type": "markdown",
   "metadata": {},
   "source": [
    "# Data visulization\n",
    "The following snippet can be used to replicate some of the plot from the paper"
   ]
  },
  {
   "cell_type": "markdown",
   "metadata": {},
   "source": [
    "## Intrinsic Dimension"
   ]
  },
  {
   "cell_type": "code",
   "execution_count": null,
   "metadata": {},
   "outputs": [],
   "source": [
    "def plotter(data, title,):\n",
    "    # Set the style\n",
    "    sns.set_style(\n",
    "        \"whitegrid\",\n",
    "        rc={\"axes.edgecolor\": \".15\", \"xtick.bottom\": True, \"ytick.left\": True},\n",
    "    )\n",
    "    # Setup figure and axes for 2 plots in one row\n",
    "    plt.figure(dpi = 200)\n",
    "    layers = np.arange(0,data[0].shape[0])\n",
    "\n",
    "    #Set ticks\n",
    "    if layers.shape[0] < 50:\n",
    "        tick_positions = np.arange(0, layers.shape[0], 4)  # Generates positions 0, 4, 8, ...\n",
    "    else:\n",
    "        tick_positions = np.arange(0, layers.shape[0], 8)  # Generates positions 0, 4, 8, ...\n",
    "\n",
    "    tick_labels = tick_positions +1 # Get the corresponding labels from x\n",
    "\n",
    "    \n",
    "    names = [\"0 shot pt\", \n",
    "            \"1 shot pt\", \n",
    "            \"2 shot pt\",\n",
    "            f\"5 shot pt\"]\n",
    "    markerstyle = ['o', 'o', 'o', 'o']\n",
    "    \n",
    "    for int_dim, label, markerstyle in zip(data, names, markerstyle):\n",
    "        sns.scatterplot(x=layers, y=int_dim, marker= markerstyle)\n",
    "        sns.lineplot(x=layers, y=int_dim, label=label)\n",
    "\n",
    "\n",
    "    plt.xlabel(\"Layer\")\n",
    "    plt.ylabel(\"ID\")\n",
    "    plt.title(title)\n",
    "    plt.xticks(ticks=tick_positions, labels=tick_labels)\n",
    "    tick_positions_y = np.arange(2.5, 22, 22/10).round(3)\n",
    "    plt.yticks(tick_positions_y)\n",
    "    plt.tick_params(axis='y')\n",
    "    plt.legend()\n",
    "    plt.tight_layout()\n",
    "    plt.rcParams.update(plot_config)\n",
    "    plt.show()"
   ]
  },
  {
   "cell_type": "code",
   "execution_count": null,
   "metadata": {},
   "outputs": [],
   "source": [
    "shot = [0,1,2,5]\n",
    "data = []\n",
    "for i in shot:\n",
    "    intrinsic_dim = IntrinsicDimension(path=f'.../{shot}shot.csv')\n",
    "    data.append(intrinsic_dim.main())\n",
    "plotter(data, \"Intrinsic Dimension\")"
   ]
  },
  {
   "cell_type": "markdown",
   "metadata": {},
   "source": [
    "## Clustering"
   ]
  },
  {
   "cell_type": "markdown",
   "metadata": {},
   "source": [
    "### Subjects"
   ]
  },
  {
   "cell_type": "code",
   "execution_count": null,
   "metadata": {},
   "outputs": [],
   "source": [
    "shot = [0,1,2,5]\n",
    "data = []\n",
    "for i in shot:\n",
    "    clustering = LabelClustering(path=f'.../{shot}shot.csv')\n",
    "    data.append(clustering.main(label=\"subject\"))\n",
    "plotter(data, \"Label Clustering\")"
   ]
  },
  {
   "cell_type": "markdown",
   "metadata": {},
   "source": [
    "### Letters"
   ]
  },
  {
   "cell_type": "code",
   "execution_count": null,
   "metadata": {},
   "outputs": [],
   "source": [
    "shot = [0,1,2,5]\n",
    "data = []\n",
    "for i in shot:\n",
    "    clustering = LabelClustering(path=f'.../{shot}shot.csv')\n",
    "    data.append(clustering.main(label=\"letters\"))\n",
    "plotter(data, \"Label Clustering\")"
   ]
  }
 ],
 "metadata": {
  "language_info": {
   "name": "python"
  }
 },
 "nbformat": 4,
 "nbformat_minor": 2
}
