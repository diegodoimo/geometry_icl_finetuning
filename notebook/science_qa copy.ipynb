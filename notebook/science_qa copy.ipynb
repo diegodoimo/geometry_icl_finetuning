{
 "cells": [
  {
   "cell_type": "code",
   "execution_count": 1,
   "metadata": {},
   "outputs": [
    {
     "name": "stderr",
     "output_type": "stream",
     "text": [
      "/u/dssc/zenocosini/helm_suite/representation_landscape_fs_ft/.venv/lib/python3.11/site-packages/tqdm/auto.py:21: TqdmWarning: IProgress not found. Please update jupyter and ipywidgets. See https://ipywidgets.readthedocs.io/en/stable/user_install.html\n",
      "  from .autonotebook import tqdm as notebook_tqdm\n"
     ]
    }
   ],
   "source": [
    "import os\n",
    "import sys\n",
    "sys.path.append(os.path.abspath(os.path.join(os.getcwd(), '..')))\n",
    "from src.metrics.intrinsic_dimension import IntrinsicDimension\n",
    "from src.metrics.clustering import LabelClustering\n",
    "import numpy as np\n",
    "from pathlib import Path\n",
    "import matplotlib.pyplot as plt\n",
    "import seaborn as sns\n",
    "import pickle\n",
    "import pandas as pd\n",
    "import datasets\n",
    "plot_config = {\n",
    "    #'font.size': 12,           \n",
    "    'axes.titlesize': 30,      \n",
    "    'axes.labelsize': 29,\n",
    "    'xtick.labelsize': 20,\n",
    "    'ytick.labelsize': 20,\n",
    "    'legend.fontsize': 23,\n",
    "    'figure.figsize': (10,8),\n",
    "    'lines.linewidth': 2.5,\n",
    "    'lines.markersize': 10,\n",
    "}\n"
   ]
  },
  {
   "cell_type": "code",
   "execution_count": 8,
   "metadata": {},
   "outputs": [],
   "source": [
    "train_path = Path(\"/orfeo/cephfs/scratch/area/ddoimo/open/geometric_lens/repo/diego/science_qa/train\")\n",
    "test_path = Path(\"/orfeo/cephfs/scratch/area/ddoimo/open/geometric_lens/repo/diego/science_qa/test\")\n",
    "train = datasets.load_from_disk(train_path).to_pandas()\n",
    "test = datasets.load_from_disk(test_path).to_pandas()\n",
    "df = pd.concat([train, test])"
   ]
  },
  {
   "cell_type": "code",
   "execution_count": null,
   "metadata": {},
   "outputs": [],
   "source": [
    "subjects_to_keep = [\"Physical and chemical change\"]"
   ]
  },
  {
   "cell_type": "code",
   "execution_count": 24,
   "metadata": {},
   "outputs": [
    {
     "data": {
      "text/plain": [
       "category\n",
       "Literary devices                       1220\n",
       "Units and measurement                   805\n",
       "Genes to traits                         713\n",
       "Reference skills                        657\n",
       "Sentences, fragments, and run-ons       637\n",
       "Classification                          438\n",
       "Developing and supporting arguments     399\n",
       "Formatting                              367\n",
       "Traits and heredity                     338\n",
       "Physical and chemical change            279\n",
       "Designing experiments                   255\n",
       "Force and motion                        224\n",
       "Verb tense                              219\n",
       "Heat and thermal energy                 214\n",
       "Chemical reactions                      202\n",
       "Basic economic principles               191\n",
       "Word usage and nuance                   189\n",
       "Heredity                                167\n",
       "Weather and climate                     155\n",
       "Pronouns                                153\n",
       "Materials                               132\n",
       "Phrases and clauses                     117\n",
       "Velocity, acceleration, and forces      101\n",
       "Atoms and molecules                      96\n",
       "Creative techniques                      93\n",
       "Supply and demand                        92\n",
       "Capitalization                           88\n",
       "Rhyming                                  87\n",
       "Audience, purpose, and tone              84\n",
       "Rocks and minerals                       81\n",
       "Pronouns and antecedents                 79\n",
       "Cells                                    75\n",
       "Author's purpose and tone                75\n",
       "Thermal energy                           72\n",
       "States of matter                         69\n",
       "Earth events                             63\n",
       "Kinetic and potential energy             63\n",
       "Social studies skills                    55\n",
       "Economics                                54\n",
       "Editing and revising                     48\n",
       "Categories                               48\n",
       "Government                               47\n",
       "Shades of meaning                        44\n",
       "Animals                                  44\n",
       "Comprehension strategies                 29\n",
       "Research skills                          26\n",
       "Plants                                   19\n",
       "Opinion writing                          18\n",
       "Mixtures                                 18\n",
       "Historical figures                       16\n",
       "Poetry elements                          16\n",
       "Short and long vowels                    15\n",
       "Name: count, dtype: int64"
      ]
     },
     "execution_count": 24,
     "metadata": {},
     "output_type": "execute_result"
    }
   ],
   "source": [
    "test.category.value_counts()"
   ]
  },
  {
   "cell_type": "code",
   "execution_count": 54,
   "metadata": {},
   "outputs": [],
   "source": [
    "category_to_exclude = [\"Creative techniques\",\n",
    "                       \"Supply and demand\",\n",
    "                       \"Rhyming\",\n",
    "                       \"Short and long vowels\",\n",
    "                       \"Poetry elements\",\n",
    "                       \"Historical figures\",\n",
    "                       \"Pronouns and antecedents\",\n",
    "                       \"Cells\",\n",
    "                       \"Author's purpose and tone\",\n",
    "                       \"Thermal energy\",\n",
    "                       \"States of matter\",\n",
    "                       \"Earth events\",\n",
    "                       \"Kinetic and potential energy\",\n",
    "                       \"Social studies skills\",\n",
    "                       \"Economics\",\n",
    "                       \"Editing and revising\",\n",
    "                       \"Categories\",\n",
    "                       \"Government\",\n",
    "                       \"Shades of meaning\",\n",
    "                       \"Animals\",\n",
    "                       \"Comprehension strategies\",\n",
    "                       \"Research skills\",\n",
    "                       \"Plants\",\n",
    "                       \"Opinion writing\",\n",
    "                       \"Mixtures\"]\n",
    "rows_to_keep = test.query(f\"category not in {category_to_exclude}\").index"
   ]
  },
  {
   "cell_type": "code",
   "execution_count": 55,
   "metadata": {},
   "outputs": [
    {
     "data": {
      "text/plain": [
       "Index([  28,   29,   30,   31,   32,   33,   34,   35,   36,   37,\n",
       "       ...\n",
       "       9775, 9776, 9777, 9778, 9779, 9780, 9781, 9783, 9784, 9785],\n",
       "      dtype='int64', length=8521)"
      ]
     },
     "execution_count": 55,
     "metadata": {},
     "output_type": "execute_result"
    }
   ],
   "source": [
    "rows_to_keep"
   ]
  },
  {
   "cell_type": "code",
   "execution_count": 53,
   "metadata": {},
   "outputs": [
    {
     "data": {
      "text/plain": [
       "'Which figure of speech is used in this text?\\nI would remind you that extremism in the defense of liberty is no vice. And let me remind you also that moderation in the pursuit of justice is no virtue.\\n—Barry Goldwater, in his acceptance speech at the 1964 Republican National Convention'"
      ]
     },
     "execution_count": 53,
     "metadata": {},
     "output_type": "execute_result"
    }
   ],
   "source": [
    "test.query(f\"category == 'Literary devices'\").question.iloc[20]"
   ]
  },
  {
   "cell_type": "code",
   "execution_count": 3,
   "metadata": {},
   "outputs": [],
   "source": [
    "def plotter(data, title, ylabel):\n",
    "    # Set the style\n",
    "    sns.set_style(\n",
    "        \"whitegrid\",\n",
    "        rc={\"axes.edgecolor\": \".15\", \"xtick.bottom\": True, \"ytick.left\": True},\n",
    "    )\n",
    "    # Setup figure and axes for 2 plots in one row\n",
    "    plt.figure(dpi = 200)\n",
    "    layers = np.arange(0,data[0].shape[0])\n",
    "\n",
    "    #Set ticks\n",
    "    if layers.shape[0] < 50:\n",
    "        tick_positions = np.arange(0, layers.shape[0], 4)  # Generates positions 0, 4, 8, ...\n",
    "    else:\n",
    "        tick_positions = np.arange(0, layers.shape[0], 8)  # Generates positions 0, 4, 8, ...\n",
    "\n",
    "    tick_labels = tick_positions +1 # Get the corresponding labels from x\n",
    "\n",
    "    \n",
    "    names = [\"0 shot pt\", \n",
    "            \"1 shot pt\", \n",
    "            \"2 shot pt\",\n",
    "            \"5 shot pt\"]\n",
    "            #\"0 shot ft\"]\n",
    "    markerstyle = ['o', 'o', 'o', 'o']#, 'x']\n",
    "    \n",
    "    for int_dim, label, markerstyle in zip(data, names, markerstyle):\n",
    "        sns.scatterplot(x=layers, y=int_dim, marker= markerstyle)\n",
    "        sns.lineplot(x=layers, y=int_dim, label=label)\n",
    "\n",
    "\n",
    "    plt.xlabel(\"Layer\")\n",
    "    plt.ylabel(ylabel)\n",
    "    plt.title(title)\n",
    "    plt.xticks(ticks=tick_positions, labels=tick_labels)\n",
    "    # tick_positions_y = np.arange(2.5, 22, 22/10).round(3)\n",
    "    # plt.yticks(tick_positions_y)\n",
    "    plt.tick_params(axis='y')\n",
    "    plt.legend()\n",
    "    plt.tight_layout()\n",
    "    plt.rcParams.update(plot_config)\n",
    "    plt.show()"
   ]
  },
  {
   "cell_type": "code",
   "execution_count": 11,
   "metadata": {},
   "outputs": [
    {
     "name": "stderr",
     "output_type": "stream",
     "text": [
      "Processing layers: 100%|██████████| 32/32 [01:15<00:00,  2.35s/it]\n",
      "Processing layers: 100%|██████████| 32/32 [01:09<00:00,  2.17s/it]\n",
      "Processing layers: 100%|██████████| 32/32 [01:16<00:00,  2.39s/it]\n",
      "Processing layers: 100%|██████████| 32/32 [01:11<00:00,  2.22s/it]\n"
     ]
    }
   ],
   "source": [
    "_PATH = Path(\"/orfeo/cephfs/scratch/area/ddoimo/open/geometric_lens\"\n",
    "             \"/repo/results/scienceqa/evaluated_test/llama-3-8b\")\n",
    "\n",
    "shot = [0,1,2,5]\n",
    "data_subjects = []\n",
    "for i in shot:\n",
    "    clustering = LabelClustering(path= _PATH / f'{i}shot')\n",
    "    data_subjects.append(clustering.main(label=\"subjects\",\n",
    "                                z=1.6,\n",
    "                                instance_per_sub=-1,\n",
    "                                full_tensor=True))\n",
    "    \n",
    "\n",
    "data_subjects.append(clustering.main(label=\"subjects\",\n",
    "                            z=1.6,\n",
    "                            instance_per_sub=-1,\n",
    "                            full_tensor=True))\n",
    "ari = [np.array(i['adjusted_rand_score']) for i in data_subjects]\n",
    "plotter(ari, \"Label Clustering\", \"ARI\")\n"
   ]
  },
  {
   "cell_type": "code",
   "execution_count": 7,
   "metadata": {},
   "outputs": [],
   "source": [
    "with open( _PATH / \"0shot/statistics_target.pkl\", \"rb\") as f:\n",
    "    stats = pickle.load(f)"
   ]
  },
  {
   "cell_type": "code",
   "execution_count": 9,
   "metadata": {},
   "outputs": [
    {
     "data": {
      "text/plain": [
       "dict_keys(['subjects', 'answers', 'predictions', 'contrained_predictions', 'accuracy', 'constrained_accuracy', 'few_shot_indices', 'metrics'])"
      ]
     },
     "execution_count": 9,
     "metadata": {},
     "output_type": "execute_result"
    }
   ],
   "source": [
    "stats.keys()"
   ]
  }
 ],
 "metadata": {
  "kernelspec": {
   "display_name": ".venv",
   "language": "python",
   "name": "python3"
  },
  "language_info": {
   "codemirror_mode": {
    "name": "ipython",
    "version": 3
   },
   "file_extension": ".py",
   "mimetype": "text/x-python",
   "name": "python",
   "nbconvert_exporter": "python",
   "pygments_lexer": "ipython3",
   "version": "3.11.7"
  }
 },
 "nbformat": 4,
 "nbformat_minor": 2
}
